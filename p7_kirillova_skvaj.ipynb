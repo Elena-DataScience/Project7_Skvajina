{
 "cells": [
  {
   "cell_type": "markdown",
   "metadata": {},
   "source": [
    "# Выбор локации для скважины"
   ]
  },
  {
   "cell_type": "markdown",
   "metadata": {},
   "source": [
    "Допустим, вы работаете в добывающей компании «ГлавРосГосНефть». Нужно решить, где бурить новую скважину.\n",
    "\n",
    "Вам предоставлены пробы нефти в трёх регионах: в каждом 10 000 месторождений, где измерили качество нефти и объём её запасов. Постройте модель машинного обучения, которая поможет определить регион, где добыча принесёт наибольшую прибыль. Проанализируйте возможную прибыль и риски техникой *Bootstrap.*\n",
    "\n",
    "Шаги для выбора локации:\n",
    "\n",
    "- В избранном регионе ищут месторождения, для каждого определяют значения признаков;\n",
    "- Строят модель и оценивают объём запасов;\n",
    "- Выбирают месторождения с самым высокими оценками значений. Количество месторождений зависит от бюджета компании и стоимости разработки одной скважины;\n",
    "- Прибыль равна суммарной прибыли отобранных месторождений."
   ]
  },
  {
   "cell_type": "markdown",
   "metadata": {},
   "source": [
    "## Загрузка и подготовка данных"
   ]
  },
  {
   "cell_type": "markdown",
   "metadata": {},
   "source": [
    "### Подключение библиотек"
   ]
  },
  {
   "cell_type": "code",
   "execution_count": 1,
   "metadata": {},
   "outputs": [],
   "source": [
    "import matplotlib.pyplot as plt\n",
    "import numpy as np\n",
    "import pandas as pd\n",
    "from sklearn.model_selection import train_test_split\n",
    "from sklearn.linear_model import LinearRegression\n",
    "from sklearn.metrics import mean_squared_error\n",
    "from sklearn.preprocessing import StandardScaler\n",
    "from sklearn.utils import shuffle\n",
    "import warnings\n",
    "warnings.filterwarnings('ignore')"
   ]
  },
  {
   "cell_type": "markdown",
   "metadata": {},
   "source": [
    "### Работа с датасетами"
   ]
  },
  {
   "cell_type": "code",
   "execution_count": 3,
   "metadata": {},
   "outputs": [],
   "source": [
    "#Откроем 3 датасета\n",
    "data_1 = pd.read_csv('/datasets/geo_data_0.csv')\n",
    "data_2 = pd.read_csv('/datasets/geo_data_1.csv')\n",
    "data_3 = pd.read_csv('/datasets/geo_data_2.csv')"
   ]
  },
  {
   "cell_type": "code",
   "execution_count": 9,
   "metadata": {},
   "outputs": [
    {
     "name": "stdout",
     "output_type": "stream",
     "text": [
      "Датасет 0:\n",
      "       id        f0        f1        f2     product\n",
      "0  txEyH  0.705745 -0.497823  1.221170  105.280062\n",
      "1  2acmU  1.334711 -0.340164  4.365080   73.037750\n",
      "2  409Wp  1.022732  0.151990  1.419926   85.265647\n",
      "3  iJLyR -0.032172  0.139033  2.978566  168.620776\n",
      "4  Xdl7t  1.988431  0.155413  4.751769  154.036647\n",
      "Датасет 1:\n",
      "       id         f0         f1        f2     product\n",
      "0  kBEdx -15.001348  -8.276000 -0.005876    3.179103\n",
      "1  62mP7  14.272088  -3.475083  0.999183   26.953261\n",
      "2  vyE1P   6.263187  -5.948386  5.001160  134.766305\n",
      "3  KcrkZ -13.081196 -11.506057  4.999415  137.945408\n",
      "4  AHL4O  12.702195  -8.147433  5.004363  134.766305\n",
      "Датасет 2:\n",
      "       id        f0        f1        f2     product\n",
      "0  fwXo0 -1.146987  0.963328 -0.828965   27.758673\n",
      "1  WJtFt  0.262778  0.269839 -2.530187   56.069697\n",
      "2  ovLUW  0.194587  0.289035 -5.586433   62.871910\n",
      "3  q6cA6  2.236060 -0.553760  0.930038  114.572842\n",
      "4  WPMUX -0.515993  1.716266  5.899011  149.600746\n"
     ]
    }
   ],
   "source": [
    "#Отобразим первые 5 строк каждого датасета\n",
    "print('Датасет 0:' '\\n', data_1.head(5))\n",
    "print('Датасет 1:' '\\n', data_2.head(5))\n",
    "print('Датасет 2:' '\\n', data_3.head(5))"
   ]
  },
  {
   "cell_type": "code",
   "execution_count": 10,
   "metadata": {},
   "outputs": [
    {
     "name": "stdout",
     "output_type": "stream",
     "text": [
      "Общая информация о Датасете 0:\n",
      "\n",
      "<class 'pandas.core.frame.DataFrame'>\n",
      "RangeIndex: 100000 entries, 0 to 99999\n",
      "Data columns (total 5 columns):\n",
      " #   Column   Non-Null Count   Dtype  \n",
      "---  ------   --------------   -----  \n",
      " 0   id       100000 non-null  object \n",
      " 1   f0       100000 non-null  float64\n",
      " 2   f1       100000 non-null  float64\n",
      " 3   f2       100000 non-null  float64\n",
      " 4   product  100000 non-null  float64\n",
      "dtypes: float64(4), object(1)\n",
      "memory usage: 3.8+ MB\n",
      "\n",
      "Общая информация о Датасете 1:\n",
      "\n",
      "<class 'pandas.core.frame.DataFrame'>\n",
      "RangeIndex: 100000 entries, 0 to 99999\n",
      "Data columns (total 5 columns):\n",
      " #   Column   Non-Null Count   Dtype  \n",
      "---  ------   --------------   -----  \n",
      " 0   id       100000 non-null  object \n",
      " 1   f0       100000 non-null  float64\n",
      " 2   f1       100000 non-null  float64\n",
      " 3   f2       100000 non-null  float64\n",
      " 4   product  100000 non-null  float64\n",
      "dtypes: float64(4), object(1)\n",
      "memory usage: 3.8+ MB\n",
      "\n",
      "Общая информация о Датасете 2:\n",
      "\n",
      "<class 'pandas.core.frame.DataFrame'>\n",
      "RangeIndex: 100000 entries, 0 to 99999\n",
      "Data columns (total 5 columns):\n",
      " #   Column   Non-Null Count   Dtype  \n",
      "---  ------   --------------   -----  \n",
      " 0   id       100000 non-null  object \n",
      " 1   f0       100000 non-null  float64\n",
      " 2   f1       100000 non-null  float64\n",
      " 3   f2       100000 non-null  float64\n",
      " 4   product  100000 non-null  float64\n",
      "dtypes: float64(4), object(1)\n",
      "memory usage: 3.8+ MB\n"
     ]
    }
   ],
   "source": [
    "#Просмотрим общую информации о каждом датасете\n",
    "print('Общая информация о Датасете 0:\\n')\n",
    "data_1.info()\n",
    "\n",
    "print('\\nОбщая информация о Датасете 1:\\n')\n",
    "data_2.info()\n",
    "\n",
    "print('\\nОбщая информация о Датасете 2:\\n')\n",
    "data_3.info()"
   ]
  },
  {
   "cell_type": "markdown",
   "metadata": {},
   "source": [
    "### Проведение проверки на дубликаты в данных"
   ]
  },
  {
   "cell_type": "code",
   "execution_count": 22,
   "metadata": {},
   "outputs": [
    {
     "name": "stdout",
     "output_type": "stream",
     "text": [
      "Дубликаты в Датасет 0:\n",
      " 0\n"
     ]
    }
   ],
   "source": [
    "print('Дубликаты в Датасет 0:', data_1.duplicated().sum())"
   ]
  },
  {
   "cell_type": "code",
   "execution_count": 16,
   "metadata": {},
   "outputs": [
    {
     "name": "stdout",
     "output_type": "stream",
     "text": [
      "Дубликаты в Датасет 1: 0\n"
     ]
    }
   ],
   "source": [
    "print('Дубликаты в Датасет 1:', data_2.duplicated().sum())"
   ]
  },
  {
   "cell_type": "code",
   "execution_count": 15,
   "metadata": {},
   "outputs": [
    {
     "name": "stdout",
     "output_type": "stream",
     "text": [
      "Дубликаты в Датасет 2: 0\n"
     ]
    }
   ],
   "source": [
    "print('Дубликаты в Датасет 2:', data_3.duplicated().sum())"
   ]
  },
  {
   "cell_type": "markdown",
   "metadata": {},
   "source": [
    "### Просмотр информации по значениям"
   ]
  },
  {
   "cell_type": "markdown",
   "metadata": {},
   "source": [
    "#### Датасет 0"
   ]
  },
  {
   "cell_type": "code",
   "execution_count": 24,
   "metadata": {},
   "outputs": [
    {
     "data": {
      "text/html": [
       "<div>\n",
       "<style scoped>\n",
       "    .dataframe tbody tr th:only-of-type {\n",
       "        vertical-align: middle;\n",
       "    }\n",
       "\n",
       "    .dataframe tbody tr th {\n",
       "        vertical-align: top;\n",
       "    }\n",
       "\n",
       "    .dataframe thead th {\n",
       "        text-align: right;\n",
       "    }\n",
       "</style>\n",
       "<table border=\"1\" class=\"dataframe\">\n",
       "  <thead>\n",
       "    <tr style=\"text-align: right;\">\n",
       "      <th></th>\n",
       "      <th>f0</th>\n",
       "      <th>f1</th>\n",
       "      <th>f2</th>\n",
       "      <th>product</th>\n",
       "    </tr>\n",
       "  </thead>\n",
       "  <tbody>\n",
       "    <tr>\n",
       "      <th>count</th>\n",
       "      <td>100000.000000</td>\n",
       "      <td>100000.000000</td>\n",
       "      <td>100000.000000</td>\n",
       "      <td>100000.000000</td>\n",
       "    </tr>\n",
       "    <tr>\n",
       "      <th>mean</th>\n",
       "      <td>0.500419</td>\n",
       "      <td>0.250143</td>\n",
       "      <td>2.502647</td>\n",
       "      <td>92.500000</td>\n",
       "    </tr>\n",
       "    <tr>\n",
       "      <th>std</th>\n",
       "      <td>0.871832</td>\n",
       "      <td>0.504433</td>\n",
       "      <td>3.248248</td>\n",
       "      <td>44.288691</td>\n",
       "    </tr>\n",
       "    <tr>\n",
       "      <th>min</th>\n",
       "      <td>-1.408605</td>\n",
       "      <td>-0.848218</td>\n",
       "      <td>-12.088328</td>\n",
       "      <td>0.000000</td>\n",
       "    </tr>\n",
       "    <tr>\n",
       "      <th>25%</th>\n",
       "      <td>-0.072580</td>\n",
       "      <td>-0.200881</td>\n",
       "      <td>0.287748</td>\n",
       "      <td>56.497507</td>\n",
       "    </tr>\n",
       "    <tr>\n",
       "      <th>50%</th>\n",
       "      <td>0.502360</td>\n",
       "      <td>0.250252</td>\n",
       "      <td>2.515969</td>\n",
       "      <td>91.849972</td>\n",
       "    </tr>\n",
       "    <tr>\n",
       "      <th>75%</th>\n",
       "      <td>1.073581</td>\n",
       "      <td>0.700646</td>\n",
       "      <td>4.715088</td>\n",
       "      <td>128.564089</td>\n",
       "    </tr>\n",
       "    <tr>\n",
       "      <th>max</th>\n",
       "      <td>2.362331</td>\n",
       "      <td>1.343769</td>\n",
       "      <td>16.003790</td>\n",
       "      <td>185.364347</td>\n",
       "    </tr>\n",
       "  </tbody>\n",
       "</table>\n",
       "</div>"
      ],
      "text/plain": [
       "                  f0             f1             f2        product\n",
       "count  100000.000000  100000.000000  100000.000000  100000.000000\n",
       "mean        0.500419       0.250143       2.502647      92.500000\n",
       "std         0.871832       0.504433       3.248248      44.288691\n",
       "min        -1.408605      -0.848218     -12.088328       0.000000\n",
       "25%        -0.072580      -0.200881       0.287748      56.497507\n",
       "50%         0.502360       0.250252       2.515969      91.849972\n",
       "75%         1.073581       0.700646       4.715088     128.564089\n",
       "max         2.362331       1.343769      16.003790     185.364347"
      ]
     },
     "execution_count": 24,
     "metadata": {},
     "output_type": "execute_result"
    }
   ],
   "source": [
    "data_1.describe()"
   ]
  },
  {
   "cell_type": "markdown",
   "metadata": {},
   "source": [
    "#### Датасет 1"
   ]
  },
  {
   "cell_type": "code",
   "execution_count": 18,
   "metadata": {},
   "outputs": [
    {
     "data": {
      "text/html": [
       "<div>\n",
       "<style scoped>\n",
       "    .dataframe tbody tr th:only-of-type {\n",
       "        vertical-align: middle;\n",
       "    }\n",
       "\n",
       "    .dataframe tbody tr th {\n",
       "        vertical-align: top;\n",
       "    }\n",
       "\n",
       "    .dataframe thead th {\n",
       "        text-align: right;\n",
       "    }\n",
       "</style>\n",
       "<table border=\"1\" class=\"dataframe\">\n",
       "  <thead>\n",
       "    <tr style=\"text-align: right;\">\n",
       "      <th></th>\n",
       "      <th>f0</th>\n",
       "      <th>f1</th>\n",
       "      <th>f2</th>\n",
       "      <th>product</th>\n",
       "    </tr>\n",
       "  </thead>\n",
       "  <tbody>\n",
       "    <tr>\n",
       "      <th>count</th>\n",
       "      <td>100000.000000</td>\n",
       "      <td>100000.000000</td>\n",
       "      <td>100000.000000</td>\n",
       "      <td>100000.000000</td>\n",
       "    </tr>\n",
       "    <tr>\n",
       "      <th>mean</th>\n",
       "      <td>1.141296</td>\n",
       "      <td>-4.796579</td>\n",
       "      <td>2.494541</td>\n",
       "      <td>68.825000</td>\n",
       "    </tr>\n",
       "    <tr>\n",
       "      <th>std</th>\n",
       "      <td>8.965932</td>\n",
       "      <td>5.119872</td>\n",
       "      <td>1.703572</td>\n",
       "      <td>45.944423</td>\n",
       "    </tr>\n",
       "    <tr>\n",
       "      <th>min</th>\n",
       "      <td>-31.609576</td>\n",
       "      <td>-26.358598</td>\n",
       "      <td>-0.018144</td>\n",
       "      <td>0.000000</td>\n",
       "    </tr>\n",
       "    <tr>\n",
       "      <th>25%</th>\n",
       "      <td>-6.298551</td>\n",
       "      <td>-8.267985</td>\n",
       "      <td>1.000021</td>\n",
       "      <td>26.953261</td>\n",
       "    </tr>\n",
       "    <tr>\n",
       "      <th>50%</th>\n",
       "      <td>1.153055</td>\n",
       "      <td>-4.813172</td>\n",
       "      <td>2.011479</td>\n",
       "      <td>57.085625</td>\n",
       "    </tr>\n",
       "    <tr>\n",
       "      <th>75%</th>\n",
       "      <td>8.621015</td>\n",
       "      <td>-1.332816</td>\n",
       "      <td>3.999904</td>\n",
       "      <td>107.813044</td>\n",
       "    </tr>\n",
       "    <tr>\n",
       "      <th>max</th>\n",
       "      <td>29.421755</td>\n",
       "      <td>18.734063</td>\n",
       "      <td>5.019721</td>\n",
       "      <td>137.945408</td>\n",
       "    </tr>\n",
       "  </tbody>\n",
       "</table>\n",
       "</div>"
      ],
      "text/plain": [
       "                  f0             f1             f2        product\n",
       "count  100000.000000  100000.000000  100000.000000  100000.000000\n",
       "mean        1.141296      -4.796579       2.494541      68.825000\n",
       "std         8.965932       5.119872       1.703572      45.944423\n",
       "min       -31.609576     -26.358598      -0.018144       0.000000\n",
       "25%        -6.298551      -8.267985       1.000021      26.953261\n",
       "50%         1.153055      -4.813172       2.011479      57.085625\n",
       "75%         8.621015      -1.332816       3.999904     107.813044\n",
       "max        29.421755      18.734063       5.019721     137.945408"
      ]
     },
     "execution_count": 18,
     "metadata": {},
     "output_type": "execute_result"
    }
   ],
   "source": [
    "data_2.describe()"
   ]
  },
  {
   "cell_type": "markdown",
   "metadata": {},
   "source": [
    "#### Датасет 2"
   ]
  },
  {
   "cell_type": "code",
   "execution_count": 19,
   "metadata": {},
   "outputs": [
    {
     "data": {
      "text/html": [
       "<div>\n",
       "<style scoped>\n",
       "    .dataframe tbody tr th:only-of-type {\n",
       "        vertical-align: middle;\n",
       "    }\n",
       "\n",
       "    .dataframe tbody tr th {\n",
       "        vertical-align: top;\n",
       "    }\n",
       "\n",
       "    .dataframe thead th {\n",
       "        text-align: right;\n",
       "    }\n",
       "</style>\n",
       "<table border=\"1\" class=\"dataframe\">\n",
       "  <thead>\n",
       "    <tr style=\"text-align: right;\">\n",
       "      <th></th>\n",
       "      <th>f0</th>\n",
       "      <th>f1</th>\n",
       "      <th>f2</th>\n",
       "      <th>product</th>\n",
       "    </tr>\n",
       "  </thead>\n",
       "  <tbody>\n",
       "    <tr>\n",
       "      <th>count</th>\n",
       "      <td>100000.000000</td>\n",
       "      <td>100000.000000</td>\n",
       "      <td>100000.000000</td>\n",
       "      <td>100000.000000</td>\n",
       "    </tr>\n",
       "    <tr>\n",
       "      <th>mean</th>\n",
       "      <td>0.002023</td>\n",
       "      <td>-0.002081</td>\n",
       "      <td>2.495128</td>\n",
       "      <td>95.000000</td>\n",
       "    </tr>\n",
       "    <tr>\n",
       "      <th>std</th>\n",
       "      <td>1.732045</td>\n",
       "      <td>1.730417</td>\n",
       "      <td>3.473445</td>\n",
       "      <td>44.749921</td>\n",
       "    </tr>\n",
       "    <tr>\n",
       "      <th>min</th>\n",
       "      <td>-8.760004</td>\n",
       "      <td>-7.084020</td>\n",
       "      <td>-11.970335</td>\n",
       "      <td>0.000000</td>\n",
       "    </tr>\n",
       "    <tr>\n",
       "      <th>25%</th>\n",
       "      <td>-1.162288</td>\n",
       "      <td>-1.174820</td>\n",
       "      <td>0.130359</td>\n",
       "      <td>59.450441</td>\n",
       "    </tr>\n",
       "    <tr>\n",
       "      <th>50%</th>\n",
       "      <td>0.009424</td>\n",
       "      <td>-0.009482</td>\n",
       "      <td>2.484236</td>\n",
       "      <td>94.925613</td>\n",
       "    </tr>\n",
       "    <tr>\n",
       "      <th>75%</th>\n",
       "      <td>1.158535</td>\n",
       "      <td>1.163678</td>\n",
       "      <td>4.858794</td>\n",
       "      <td>130.595027</td>\n",
       "    </tr>\n",
       "    <tr>\n",
       "      <th>max</th>\n",
       "      <td>7.238262</td>\n",
       "      <td>7.844801</td>\n",
       "      <td>16.739402</td>\n",
       "      <td>190.029838</td>\n",
       "    </tr>\n",
       "  </tbody>\n",
       "</table>\n",
       "</div>"
      ],
      "text/plain": [
       "                  f0             f1             f2        product\n",
       "count  100000.000000  100000.000000  100000.000000  100000.000000\n",
       "mean        0.002023      -0.002081       2.495128      95.000000\n",
       "std         1.732045       1.730417       3.473445      44.749921\n",
       "min        -8.760004      -7.084020     -11.970335       0.000000\n",
       "25%        -1.162288      -1.174820       0.130359      59.450441\n",
       "50%         0.009424      -0.009482       2.484236      94.925613\n",
       "75%         1.158535       1.163678       4.858794     130.595027\n",
       "max         7.238262       7.844801      16.739402     190.029838"
      ]
     },
     "execution_count": 19,
     "metadata": {},
     "output_type": "execute_result"
    }
   ],
   "source": [
    "data_3.describe()"
   ]
  },
  {
   "cell_type": "markdown",
   "metadata": {},
   "source": [
    "### Работа с полученными данными"
   ]
  },
  {
   "cell_type": "code",
   "execution_count": 25,
   "metadata": {},
   "outputs": [],
   "source": [
    "#В данных отсутсвуют пропуски -  удалим из каждого датафрейма столбец id, так как он не несет значимости для модели\n",
    "data_1 = data_1.drop(['id'], axis=1)\n",
    "data_2 = data_2.drop(['id'], axis=1)\n",
    "data_3 = data_3.drop(['id'], axis=1)"
   ]
  },
  {
   "cell_type": "code",
   "execution_count": 40,
   "metadata": {},
   "outputs": [],
   "source": [
    "# Построим гистограммы по столбцу product датасета 0, 1, 2\n",
    "def hist(seria, bins, xlim_max, ylim_max):\n",
    "    plt.figure(figsize=[12,9])\n",
    "    \n",
    "    plt.hist(seria, bins=bins, color = 'green')\n",
    "\n",
    "    plt.xlim([0,xlim_max])\n",
    "    plt.ylim([0,ylim_max])\n",
    "\n",
    "    plt.xlabel(\"Объем нефти на скважину, тыс. баррелей\")\n",
    "    plt.ylabel(\"Количество скважин\")\n",
    "\n",
    "    plt.title(\"Гистограмма распределения по объему скважин\")\n",
    "    plt.show()"
   ]
  },
  {
   "cell_type": "code",
   "execution_count": 37,
   "metadata": {},
   "outputs": [
    {
     "data": {
      "image/png": "[encoded data removed]",
      "text/plain": [
       "<Figure size 864x648 with 1 Axes>"
      ]
     },
     "metadata": {
      "needs_background": "light"
     },
     "output_type": "display_data"
    }
   ],
   "source": [
    "hist(data_1['product'], 200, 190, 1000)"
   ]
  },
  {
   "cell_type": "code",
   "execution_count": 38,
   "metadata": {},
   "outputs": [
    {
     "data": {
      "image/png": "[encoded data removed]",
      "text/plain": [
       "<Figure size 864x648 with 1 Axes>"
      ]
     },
     "metadata": {
      "needs_background": "light"
     },
     "output_type": "display_data"
    }
   ],
   "source": [
    "hist(data_2['product'], 200, 190, 1000)"
   ]
  },
  {
   "cell_type": "markdown",
   "metadata": {},
   "source": [
    "*На графике видно что в data_2 довольно много пропусков, необходимо выяснить сколько именно, напишем для этого функцию*"
   ]
  },
  {
   "cell_type": "code",
   "execution_count": 39,
   "metadata": {},
   "outputs": [
    {
     "data": {
      "image/png": "[encoded data removed]",
      "text/plain": [
       "<Figure size 864x648 with 1 Axes>"
      ]
     },
     "metadata": {
      "needs_background": "light"
     },
     "output_type": "display_data"
    }
   ],
   "source": [
    "hist(data_3['product'], 200, 190, 1000)"
   ]
  },
  {
   "cell_type": "markdown",
   "metadata": {},
   "source": [
    "### Разбор пропусков в данных"
   ]
  },
  {
   "cell_type": "code",
   "execution_count": 46,
   "metadata": {},
   "outputs": [],
   "source": [
    "def zeros_data(data, target_name):\n",
    "    zeros = data[data[target_name] == 0][target_name].count()\n",
    "    percent = zeros / data.shape[0]\n",
    "    print('Количество нулевых значений:', zeros)\n",
    "    print('Процент нулевых значений:', percent)"
   ]
  },
  {
   "cell_type": "code",
   "execution_count": 47,
   "metadata": {},
   "outputs": [
    {
     "name": "stdout",
     "output_type": "stream",
     "text": [
      "Количество нулевых значений: 1\n",
      "Процент нулевых значений: 1e-05\n"
     ]
    }
   ],
   "source": [
    "zeros_data(data_1, 'product')"
   ]
  },
  {
   "cell_type": "code",
   "execution_count": 48,
   "metadata": {},
   "outputs": [
    {
     "name": "stdout",
     "output_type": "stream",
     "text": [
      "Количество нулевых значений: 8235\n",
      "Процент нулевых значений: 0.08235\n"
     ]
    }
   ],
   "source": [
    "zeros_data(data_2, 'product')"
   ]
  },
  {
   "cell_type": "code",
   "execution_count": 49,
   "metadata": {},
   "outputs": [
    {
     "name": "stdout",
     "output_type": "stream",
     "text": [
      "Количество нулевых значений: 1\n",
      "Процент нулевых значений: 1e-05\n"
     ]
    }
   ],
   "source": [
    "zeros_data(data_3, 'product')"
   ]
  },
  {
   "cell_type": "code",
   "execution_count": 50,
   "metadata": {},
   "outputs": [
    {
     "data": {
      "image/png": "[encoded data removed]",
      "text/plain": [
       "<Figure size 864x648 with 1 Axes>"
      ]
     },
     "metadata": {
      "needs_background": "light"
     },
     "output_type": "display_data"
    }
   ],
   "source": [
    "#Рассмотрим ближе гистограмму датафрейма 2 \n",
    "hist(data_2['product'], 50, 150, 10000)"
   ]
  },
  {
   "cell_type": "markdown",
   "metadata": {},
   "source": [
    "**Вывод:**\n",
    "\n",
    "- Загружено 3 датасета с данными. \n",
    "- В каждом датасете 10000 строк и 5 столбцов. Все строки без нулевых значений. \n",
    "- Столбец ID - это уникальны номер мтроки и для дальнейшей работы не нужен. \n",
    "- Столбцы f0, f1, f2 - это признаки, они представлены как отрицательными значениями, так и положительными. \n",
    "- Столцец product - это целевой признак и отображает объём запасов в скважине (тыс. баррелей).\n",
    "- Во втором датафрейме около 8,2% месторождений не имело значения в столбце product. При сравнении с такими же значениями из первого и третьего датафрейма можно понять, что были утеряны данные или не они не были исследованы.\n",
    "- По гистограммам можно понять, что у первого и третьего фрейма распределение скважин близкое к нормальному. Во втором датафрейме данные имеют странное распределение: от 0 до 5 баррелей с шагом по 15-20 равномерно распределены 100000 значений.Данные не подчиняются закону больших чисел и скорей всего были введены искуственно."
   ]
  },
  {
   "cell_type": "markdown",
   "metadata": {},
   "source": [
    "## Обучение и проверка модели"
   ]
  },
  {
   "cell_type": "code",
   "execution_count": 91,
   "metadata": {},
   "outputs": [],
   "source": [
    "#Функция для разбивки фрейма на выборки\n",
    "def test_split(data, target):\n",
    "    features = data.drop([target] , axis=1)\n",
    "    target = data[target]\n",
    "\n",
    "    features_train, features_valid, target_train, target_valid = train_test_split(\n",
    "    features, target, test_size=0.25, random_state=1234)\n",
    "    \n",
    "    return features_train, features_valid, target_train, target_valid"
   ]
  },
  {
   "cell_type": "code",
   "execution_count": 93,
   "metadata": {},
   "outputs": [
    {
     "data": {
      "text/html": [
       "<div>\n",
       "<style scoped>\n",
       "    .dataframe tbody tr th:only-of-type {\n",
       "        vertical-align: middle;\n",
       "    }\n",
       "\n",
       "    .dataframe tbody tr th {\n",
       "        vertical-align: top;\n",
       "    }\n",
       "\n",
       "    .dataframe thead th {\n",
       "        text-align: right;\n",
       "    }\n",
       "</style>\n",
       "<table border=\"1\" class=\"dataframe\">\n",
       "  <thead>\n",
       "    <tr style=\"text-align: right;\">\n",
       "      <th></th>\n",
       "      <th>f0</th>\n",
       "      <th>f1</th>\n",
       "      <th>f2</th>\n",
       "    </tr>\n",
       "  </thead>\n",
       "  <tbody>\n",
       "    <tr>\n",
       "      <th>39682</th>\n",
       "      <td>1.170455</td>\n",
       "      <td>-0.462957</td>\n",
       "      <td>-3.313383</td>\n",
       "    </tr>\n",
       "    <tr>\n",
       "      <th>87490</th>\n",
       "      <td>-0.776847</td>\n",
       "      <td>0.754405</td>\n",
       "      <td>2.779678</td>\n",
       "    </tr>\n",
       "    <tr>\n",
       "      <th>12337</th>\n",
       "      <td>-0.907117</td>\n",
       "      <td>0.754509</td>\n",
       "      <td>1.398122</td>\n",
       "    </tr>\n",
       "    <tr>\n",
       "      <th>9307</th>\n",
       "      <td>-0.720365</td>\n",
       "      <td>0.665569</td>\n",
       "      <td>5.240327</td>\n",
       "    </tr>\n",
       "    <tr>\n",
       "      <th>79863</th>\n",
       "      <td>0.937117</td>\n",
       "      <td>0.205242</td>\n",
       "      <td>3.258692</td>\n",
       "    </tr>\n",
       "  </tbody>\n",
       "</table>\n",
       "</div>"
      ],
      "text/plain": [
       "             f0        f1        f2\n",
       "39682  1.170455 -0.462957 -3.313383\n",
       "87490 -0.776847  0.754405  2.779678\n",
       "12337 -0.907117  0.754509  1.398122\n",
       "9307  -0.720365  0.665569  5.240327\n",
       "79863  0.937117  0.205242  3.258692"
      ]
     },
     "execution_count": 93,
     "metadata": {},
     "output_type": "execute_result"
    }
   ],
   "source": [
    "features_train_1, features_valid_1, target_train_1, target_valid_1 = test_split(data_1, 'product')\n",
    "\n",
    "features_train_1.head()"
   ]
  },
  {
   "cell_type": "code",
   "execution_count": 95,
   "metadata": {},
   "outputs": [],
   "source": [
    "#Функция для разбивки фрейма на масщтабируемой выборки\n",
    "def test_split_scaled(data, numeric, target):\n",
    "    geo_data_s = data.copy()\n",
    "\n",
    "    features_s = geo_data_s.drop([target] , axis=1)\n",
    "    target_s = geo_data_s[target]\n",
    "\n",
    "    features_train_s, features_valid_s, target_train_s, target_valid_s = train_test_split(\n",
    "        features_s, target_s, test_size=0.25, random_state=1515)\n",
    "\n",
    "    scaler = StandardScaler()\n",
    "    scaler.fit(features_train_s[numeric])\n",
    "    features_train_s[numeric] = scaler.transform(features_train_s[numeric])\n",
    "    features_valid_s[numeric] = scaler.transform(features_valid_s[numeric])\n",
    "\n",
    "    return features_train_s, features_valid_s, target_train_s, target_valid_s"
   ]
  },
  {
   "cell_type": "markdown",
   "metadata": {},
   "source": [
    "### Обучение и проверка модели типа линейная регрессия для Датасета 0"
   ]
  },
  {
   "cell_type": "code",
   "execution_count": 99,
   "metadata": {},
   "outputs": [
    {
     "name": "stdout",
     "output_type": "stream",
     "text": [
      "RMSE: 37.562394183637785\n"
     ]
    }
   ],
   "source": [
    "# Обучение модели на неизмененных данных и выведем среднеквадратичную ошибку\n",
    "model = LinearRegression()\n",
    "\n",
    "model.fit(features_train_1, target_train_1)\n",
    "predicted_target_1 = model.predict(features_valid_1)\n",
    "print('RMSE:', mean_squared_error(target_valid_1, predicted_target_1)**0.5)"
   ]
  },
  {
   "cell_type": "code",
   "execution_count": 100,
   "metadata": {},
   "outputs": [
    {
     "name": "stdout",
     "output_type": "stream",
     "text": [
      "RMSE: 37.54514842848321\n"
     ]
    }
   ],
   "source": [
    "# Обучение модели на маштабированных данных и выведем среднеквадратичную ошибку\n",
    "features_train_1s, features_valid_1s, target_train_1s, target_valid_1s = test_split_scaled(\n",
    "                                                                        data_1, ['f0', 'f1', 'f2'], 'product')\n",
    "model.fit(features_train_1s, target_train_1s)\n",
    "predicted_target_1s = model.predict(features_valid_1s)\n",
    "print('RMSE:', mean_squared_error(target_valid_1s, predicted_target_1s)**0.5)"
   ]
  },
  {
   "cell_type": "markdown",
   "metadata": {},
   "source": [
    "### Обучение и проверка модели типа линейная регрессия для Датасета 1"
   ]
  },
  {
   "cell_type": "code",
   "execution_count": 103,
   "metadata": {},
   "outputs": [
    {
     "name": "stdout",
     "output_type": "stream",
     "text": [
      "RMSE: 0.8939344738117703\n",
      "RMSE: 0.887992303075714\n"
     ]
    }
   ],
   "source": [
    "# Аналогично\n",
    "features_train_2, features_valid_2, target_train_2, target_valid_2 = test_split(data_2, 'product')\n",
    "model.fit(features_train_2, target_train_2)\n",
    "predicted_target_2 = model.predict(features_valid_2)\n",
    "print('RMSE:', mean_squared_error(target_valid_2, predicted_target_2)**0.5)\n",
    "\n",
    "features_train_2s, features_valid_2s, target_train_2s, target_valid_2s = test_split_scaled(\n",
    "                                                                        data_2, ['f0', 'f1', 'f2'], 'product')\n",
    "model.fit(features_train_2s, target_train_2s)\n",
    "predicted_target_2s = model.predict(features_valid_2s)\n",
    "print('RMSE', mean_squared_error(target_valid_2s, predicted_target_2s)**0.5)"
   ]
  },
  {
   "cell_type": "markdown",
   "metadata": {},
   "source": [
    "### Обучение и проверка модели типа линейная регрессия для Датасета 2"
   ]
  },
  {
   "cell_type": "code",
   "execution_count": 105,
   "metadata": {},
   "outputs": [
    {
     "name": "stdout",
     "output_type": "stream",
     "text": [
      "RMSE: 40.10318099258418\n",
      "RMSE: 40.12893608416936\n"
     ]
    }
   ],
   "source": [
    "#Аналогично\n",
    "features_train_3, features_valid_3, target_train_3, target_valid_3 = test_split(data_3, 'product')\n",
    "model.fit(features_train_3, target_train_3)\n",
    "predicted_target_3 = model.predict(features_valid_3)\n",
    "print('RMSE:', mean_squared_error(target_valid_3, predicted_target_3)**0.5)\n",
    "\n",
    "features_train_3s, features_valid_3s, target_train_3s, target_valid_3s = test_split_scaled(\n",
    "                                                                        data_3, ['f0', 'f1', 'f2'], 'product')\n",
    "model.fit(features_train_3s, target_train_3s)\n",
    "predicted_target_3s = model.predict(features_valid_3s)\n",
    "print('RMSE:', mean_squared_error(target_valid_3s, predicted_target_3s)**0.5)"
   ]
  },
  {
   "cell_type": "markdown",
   "metadata": {},
   "source": [
    "**Вывод:**\n",
    "\n",
    "\n",
    "Масштабирование данных не требуется. Проверим показатель RMSE при других гиперпараметрах модели."
   ]
  },
  {
   "cell_type": "markdown",
   "metadata": {},
   "source": [
    "### Проверка RMSE на других параметрах"
   ]
  },
  {
   "cell_type": "code",
   "execution_count": 106,
   "metadata": {},
   "outputs": [
    {
     "name": "stdout",
     "output_type": "stream",
     "text": [
      "RMSE: 37.562394183637785\n"
     ]
    }
   ],
   "source": [
    "model = LinearRegression(normalize=True)\n",
    "model.fit(features_train_1, target_train_1)\n",
    "predicted_target_1 = model.predict(features_valid_1)\n",
    "print('RMSE:', mean_squared_error(target_valid_1, predicted_target_1)**0.5)"
   ]
  },
  {
   "cell_type": "code",
   "execution_count": 107,
   "metadata": {},
   "outputs": [
    {
     "name": "stdout",
     "output_type": "stream",
     "text": [
      "RMSE: 60.75523913028553\n"
     ]
    }
   ],
   "source": [
    "model = LinearRegression(fit_intercept=False)\n",
    "model.fit(features_train_1, target_train_1)\n",
    "predicted_target_1 = model.predict(features_valid_1)\n",
    "print('RMSE:', mean_squared_error(target_valid_1, predicted_target_1)**0.5)"
   ]
  },
  {
   "cell_type": "markdown",
   "metadata": {},
   "source": [
    "**Вывод:**\n",
    "\n",
    "Изменение стандартных значений гиперпараметров не улучшило модель."
   ]
  },
  {
   "cell_type": "markdown",
   "metadata": {},
   "source": [
    "### Вывод предсказанного запаса"
   ]
  },
  {
   "cell_type": "code",
   "execution_count": 108,
   "metadata": {},
   "outputs": [],
   "source": [
    "# Произведем вывод предсказанного запаса с реальным и выведем RMSE. Для этого напишем функцию.\n",
    "model = LinearRegression()\n",
    "\n",
    "def predict(df, target_name):\n",
    "    features = df.drop([target_name] , axis=1)\n",
    "    target = df[target_name]\n",
    "    \n",
    "    features_train, features_valid, target_train, target_valid = train_test_split(\n",
    "    features, target, test_size=0.25, random_state=1515)\n",
    "    \n",
    "    model.fit(features_train, target_train)\n",
    "    predicted_target = model.predict(features_valid)\n",
    "    data = {'real_product' : target_valid,\n",
    "            'predicted_product' : predicted_target         \n",
    "    }\n",
    "    data_frame = pd.DataFrame(data, columns = ['real_product', 'predicted_product'])\n",
    "    rmse = mean_squared_error(target_valid, predicted_target)**0.5\n",
    "    mean = data_frame['predicted_product'].mean()\n",
    "    oil_sum = data_frame['predicted_product'].sum()\n",
    "    return data_frame, rmse, mean, oil_sum"
   ]
  },
  {
   "cell_type": "code",
   "execution_count": 112,
   "metadata": {},
   "outputs": [
    {
     "name": "stdout",
     "output_type": "stream",
     "text": [
      "RMSE: 37.54514842848321\n",
      "Средний запас запасанного сырья: 92.67301020506795\n"
     ]
    }
   ],
   "source": [
    "data_1_predicted, data_1_rmse, data_1_predicted_mean, data_1_predicted_sum = predict(data_1, 'product')\n",
    "print('RMSE:', data_1_rmse)\n",
    "print('Средний запас запасанного сырья:', data_1_predicted_mean)"
   ]
  },
  {
   "cell_type": "code",
   "execution_count": 115,
   "metadata": {},
   "outputs": [
    {
     "name": "stdout",
     "output_type": "stream",
     "text": [
      "RMSE: 0.8879923030757141\n",
      "Средний запас запасанного сырья: 68.40182262737245\n"
     ]
    }
   ],
   "source": [
    "data_2_predicted, data_2_rmse, data_2_predicted_mean, data_2_predicted_sum = predict(data_2, 'product')\n",
    "print('RMSE:', data_2_rmse)\n",
    "print('Средний запас запасанного сырья:', data_2_predicted_mean)"
   ]
  },
  {
   "cell_type": "code",
   "execution_count": 116,
   "metadata": {},
   "outputs": [
    {
     "name": "stdout",
     "output_type": "stream",
     "text": [
      "       real_product  predicted_product\n",
      "24747    125.651756         124.610388\n",
      "84733    137.961076         101.130654\n",
      "59479     39.246669          80.389548\n",
      "74427      8.503397          62.354405\n",
      "60722     80.540259         104.481677\n",
      "RMSE: 40.12893608416937\n",
      "Средний запас запасанного сырья: 95.07347680345853\n"
     ]
    }
   ],
   "source": [
    "data_3_predicted, data_3_rmse, data_3_predicted_mean, data_3_predicted_sum = predict(data_3, 'product')\n",
    "print(data_3_predicted.head())\n",
    "print('RMSE:', data_3_rmse)\n",
    "print('Средний запас запасанного сырья:', data_3_predicted_mean)"
   ]
  },
  {
   "cell_type": "code",
   "execution_count": 117,
   "metadata": {},
   "outputs": [
    {
     "name": "stdout",
     "output_type": "stream",
     "text": [
      "Суммарный предсказанный запас в позиции 0: 2316825.255126699\n",
      "Суммарный реальный запас в позиции 0: 2316402.9055410437\n",
      "\n",
      "Суммарный предсказанный запас в позиции 1: 1710045.5656843113\n",
      "Суммарный реальный запас в позиции 1: 1710383.3136954207\n",
      "\n",
      "Суммарный предсказанный запас в позиции 2: 2376836.9200864634\n",
      "Суммарный реальный запас в позиции 2: 2382895.492237772\n"
     ]
    }
   ],
   "source": [
    "# Оценим общий запас на регион по предсказанным данным\n",
    "print('Суммарный предсказанный запас в позиции 0:', data_1_predicted_sum)\n",
    "print('Суммарный реальный запас в позиции 0:', data_1_predicted['real_product'].sum())\n",
    "print()\n",
    "print('Суммарный предсказанный запас в позиции 1:', data_2_predicted_sum)\n",
    "print('Суммарный реальный запас в позиции 1:', data_2_predicted['real_product'].sum())\n",
    "print()\n",
    "print('Суммарный предсказанный запас в позиции 2:', data_3_predicted_sum)\n",
    "print('Суммарный реальный запас в позиции 2:', data_3_predicted['real_product'].sum())"
   ]
  },
  {
   "cell_type": "markdown",
   "metadata": {},
   "source": [
    "**Вывод:**\n",
    "\n",
    "Запасы сырья и их RMSE распределились следующим образом:\n",
    "\n",
    "- Датасет 0: RMSE: 37.54514842848321, средний запаc сырья: 92.67301020506795 тыс. баррелей\n",
    "- Датасет 1: RMSE: 0.8879923030757141, средний запаc сырья: 68.40182262737245 тыс. баррелей\n",
    "- Датасет 2: RMSE: 40.12893608416937, средний запаc сырья: 95.07347680345853 тыс. баррелей\n",
    "\n",
    "Из полученных данных видно, что самый большой запас нефти находится в Датасете 2, потом Датасете 0 и самый маленький запас нефти в Датасете 1. \n",
    "Относительно RMSE самая низкая квадратичная ошибка в Датасете 1 и составляет 0.887, тогда как в Датасете 0 и Датасете 2 она гораздо выше и сотавляет 37.545 и 40.128.\n",
    "\n",
    "- Данные предсказаний о количестве нефти по сумме примерно совпадают по сумме с предсказанными значениями. Лучше всего модель предсказала запасы во втором фрейме (RMSE - 0.88), далее в первом и третьем соотвественно.\n",
    "- Возможно утеряные данные из второго фрейма сказались на модели и она достаточно сильно переобучилась.Но из-за утери данных и малого запаса в среднем не имеет смысла рассматривать второй фрейм как прибыльное месторождение.\n",
    "- Изучим все фреймы на риски и прибыль, но в конечном итоге будем выбирать между 1 и 3 фреймом."
   ]
  },
  {
   "cell_type": "markdown",
   "metadata": {},
   "source": [
    "## Подготовка к расчёту прибыли"
   ]
  },
  {
   "cell_type": "markdown",
   "metadata": {},
   "source": [
    "### Подготовка ключвых значений для расчетов"
   ]
  },
  {
   "cell_type": "code",
   "execution_count": 118,
   "metadata": {},
   "outputs": [],
   "source": [
    "#Все ключевые значения для расчётов сохраним в отдельных переменных.\n",
    "chosen_points = 500 #При разведке региона исследуют 500 точек\n",
    "best_points = 200 #с помощью машинного обучения выбирают 200 лучших для разработки.\n",
    "budget = 10000000000 #Бюджет на разработку скважин в регионе\n",
    "price_per_barrel = 450000 #Доход с каждой единицы продукта составляет 450 тыс. рублей, поскольку объём указан в тысячах баррелей."
   ]
  },
  {
   "cell_type": "markdown",
   "metadata": {},
   "source": [
    "### Рассчитаем достаточный объём сырья для безубыточной разработки новой скважины"
   ]
  },
  {
   "cell_type": "code",
   "execution_count": 120,
   "metadata": {},
   "outputs": [
    {
     "name": "stdout",
     "output_type": "stream",
     "text": [
      "Средняя прибыль на лучшую точку: 50000000.0 тыс.руб.\n",
      "Средний объем нефти на точку: 111.11111111111111 тыс. баррелей\n",
      "Средний объем нефти на регион: 22222.222222222223 тыс. баррелей\n"
     ]
    }
   ],
   "source": [
    "average_profit_per_point = budget / best_points\n",
    "print('Средняя прибыль на лучшую точку:', average_profit_per_point, 'тыс.руб.')\n",
    "\n",
    "average_barrels_per_point = average_profit_per_point  / price_per_barrel\n",
    "print('Средний объем нефти на точку:',average_barrels_per_point, 'тыс. баррелей')\n",
    "\n",
    "average_barrels = budget / price_per_barrel\n",
    "print('Средний объем нефти на регион:',average_barrels, 'тыс. баррелей')"
   ]
  },
  {
   "cell_type": "markdown",
   "metadata": {},
   "source": [
    "### Рассмотрит фактические запасы сырья"
   ]
  },
  {
   "cell_type": "code",
   "execution_count": 122,
   "metadata": {},
   "outputs": [
    {
     "name": "stdout",
     "output_type": "stream",
     "text": [
      "Средний запас фактичекой нефти на скважину в 1: 92.50000000000001\n",
      "Средний запас фактичекой нефти на скважину в 2: 68.82500000000002\n",
      "Средний запас фактичекой нефти на скважину в 3: 95.00000000000004\n"
     ]
    }
   ],
   "source": [
    "# Фактические запасы\n",
    "print('Средний запас фактичекой нефти на скважину в 1:', data_1['product'].mean())\n",
    "print('Средний запас фактичекой нефти на скважину в 2:', data_2['product'].mean())\n",
    "print('Средний запас фактичекой нефти на скважину в 3:', data_3['product'].mean())"
   ]
  },
  {
   "cell_type": "code",
   "execution_count": 123,
   "metadata": {},
   "outputs": [
    {
     "data": {
      "image/png": "[encoded data removed]",
      "text/plain": [
       "<Figure size 864x648 with 1 Axes>"
      ]
     },
     "metadata": {
      "needs_background": "light"
     },
     "output_type": "display_data"
    }
   ],
   "source": [
    "hist(data_1_predicted['predicted_product'], 200, 190, 500)"
   ]
  },
  {
   "cell_type": "code",
   "execution_count": 124,
   "metadata": {},
   "outputs": [
    {
     "data": {
      "image/png": "[encoded data removed]",
      "text/plain": [
       "<Figure size 864x648 with 1 Axes>"
      ]
     },
     "metadata": {
      "needs_background": "light"
     },
     "output_type": "display_data"
    }
   ],
   "source": [
    "hist(data_2_predicted['predicted_product'], 20, 150, 5000)"
   ]
  },
  {
   "cell_type": "code",
   "execution_count": 125,
   "metadata": {},
   "outputs": [
    {
     "data": {
      "image/png": "[encoded data removed]",
      "text/plain": [
       "<Figure size 864x648 with 1 Axes>"
      ]
     },
     "metadata": {
      "needs_background": "light"
     },
     "output_type": "display_data"
    }
   ],
   "source": [
    "hist(data_3_predicted['predicted_product'], 200, 190, 500)"
   ]
  },
  {
   "cell_type": "markdown",
   "metadata": {},
   "source": [
    "**Вывод:**\n",
    "\n",
    "- Для безубыточной разработки 1 точки потребуется 111.1 тыс. баррелей нефти. \n",
    "- Это значение больше, чем средний запас нефти в каждом из датасетов. На 13-15 % больше, чем средний запас в Датасете 0 и Датасете 2 и на 38% больше, чем в Датасете 1.\n",
    "\n",
    "\n",
    "    Также выведен фактический запас нефти:\n",
    "- Средний запас фактичекой нефти на скважину в 1 92.50000000000001\n",
    "- Средний запас фактичекой нефти на скважину в 2 68.82500000000002\n",
    "- Средний запас фактичекой нефти на скважину в 3 95.00000000000004\n",
    "\n",
    "\n",
    "Изучены средние фактические запасы. Для первого и третьего - высокая вероятность окупить затраты. Разброс значений вокруг среднего 92.5 и 95 говорит нам о том, что существует достаточно много скважин, где запасы больше необходимого среднего.\n",
    "\n",
    "Во вторых данных возможно и есть определенный смысл - значений больше 111 достаточно много и при определенной доли везения можно выбрать только лучшие в этой выборке, хотя и среднее значение 68.8."
   ]
  },
  {
   "cell_type": "markdown",
   "metadata": {},
   "source": [
    "## Расчёт прибыли и рисков "
   ]
  },
  {
   "cell_type": "code",
   "execution_count": 126,
   "metadata": {},
   "outputs": [],
   "source": [
    "# Функция для расчета прибыли на 500 разведанных точек.\n",
    "def oil_profit_calculation(target, probabilities, count):\n",
    "    probs_sorted = probabilities.sort_values(ascending=False)\n",
    "    selected = target[probs_sorted.index][:count]\n",
    "    return price_per_barrel * selected.sum() - budget"
   ]
  },
  {
   "cell_type": "code",
   "execution_count": 127,
   "metadata": {},
   "outputs": [],
   "source": [
    "# Функция для применения техники Bootstrap с 1000 выборокам\n",
    "state = np.random.RandomState(1515)\n",
    "def bootstrap_1000(target, probs):\n",
    "    values=[]\n",
    "    lost = 0\n",
    "    for i in range(1000):\n",
    "        target_sample = target.sample(replace=True, random_state=state, n=chosen_points)\n",
    "        probs_sample = probs[target_sample.index]\n",
    "        profit = oil_profit_calculation(target, probs_sample, best_points)\n",
    "        if profit < 0:\n",
    "            lost +=1\n",
    "        values.append(profit)\n",
    "    \n",
    "    values = pd.Series(values)\n",
    "    lower = values.quantile(0.025)\n",
    "    upper = values.quantile(0.975)\n",
    "    average = values.mean()\n",
    "    risk = lost / 1000\n",
    "    return average, lower, upper, risk"
   ]
  },
  {
   "cell_type": "markdown",
   "metadata": {},
   "source": [
    "### Расчет прибыли и рисков для датасета 0"
   ]
  },
  {
   "cell_type": "code",
   "execution_count": 147,
   "metadata": {},
   "outputs": [
    {
     "name": "stdout",
     "output_type": "stream",
     "text": [
      "Данные по первому региону.\n",
      "Средняя прибыль по региону: 449038746.26 тыс.руб.\n",
      "95% доверительный интервал от -75256911.08 до 962718549.45 тыс.руб.\n",
      "Процент риска: 4.50%\n"
     ]
    }
   ],
   "source": [
    "average_1, lower_1, upper_1, risk_1 = bootstrap_1000(data_1_predicted['real_product'], \n",
    "                                                     data_1_predicted['predicted_product'])\n",
    "print('Данные по первому региону.')\n",
    "print('Средняя прибыль по региону: {:.2f} тыс.руб.'.format(average_1))\n",
    "print('95% доверительный интервал от {:.2f} до {:.2f} тыс.руб.'.format(lower_1, upper_1))\n",
    "print('Процент риска: {:.2%}'.format(risk_1))"
   ]
  },
  {
   "cell_type": "markdown",
   "metadata": {},
   "source": [
    "### Расчет прибыли и рисков для датасета 1"
   ]
  },
  {
   "cell_type": "code",
   "execution_count": 136,
   "metadata": {},
   "outputs": [
    {
     "name": "stdout",
     "output_type": "stream",
     "text": [
      "Данные по второму региону.\n",
      "Средняя прибыль по региону: 405497664.98 тыс.руб.\n",
      "95% доверительный интервал от 38857140.89 до 796710792.96 тыс.руб.\n",
      "Процент риска: 1.40%\n"
     ]
    }
   ],
   "source": [
    "average_2, lower_2, upper_2, risk_2 = bootstrap_1000(data_2_predicted['real_product'], \n",
    "                                                     data_2_predicted['predicted_product'])\n",
    "print('Данные по второму региону.')\n",
    "print('Средняя прибыль по региону: {:.2f} тыс.руб.'.format(average_2))\n",
    "print('95% доверительный интервал от {:.2f} до {:.2f} тыс.руб.'.format(lower_2, upper_2))\n",
    "print('Процент риска: {:.2%}'.format(risk_2))"
   ]
  },
  {
   "cell_type": "markdown",
   "metadata": {},
   "source": [
    "### Расчет прибыли и рисков для датасета 2"
   ]
  },
  {
   "cell_type": "code",
   "execution_count": 137,
   "metadata": {},
   "outputs": [
    {
     "name": "stdout",
     "output_type": "stream",
     "text": [
      "Данные по третьему региону.\n",
      "Средняя прибыль по региону: 387025831.58 тыс.руб.\n",
      "95% доверительный интервал от -141490855.54 до 908324762.10 тыс.руб.\n",
      "Процент риска: 7.80%\n"
     ]
    }
   ],
   "source": [
    "average_3, lower_3, upper_3, risk_3 = bootstrap_1000(data_3_predicted['real_product'], \n",
    "                                                     data_3_predicted['predicted_product'])\n",
    "print('Данные по третьему региону.')\n",
    "print('Средняя прибыль по региону: {:.2f} тыс.руб.'.format(average_3))\n",
    "print('95% доверительный интервал от {:.2f} до {:.2f} тыс.руб.'.format(lower_3, upper_3))\n",
    "print('Процент риска: {:.2%}'.format(risk_3))"
   ]
  },
  {
   "cell_type": "markdown",
   "metadata": {},
   "source": [
    "**Вывод:**\n",
    "\n",
    "Мы отсеиваем первый и третий регион, так как риски относительно велики (4.5% и 7.8%). \n",
    "\n",
    "Остается один единственный - второй, чей риск равен требуему (1.4%). Кроме того доверительный интервал показывает, что даже при не очень удачном выборе разработка скважин окупится."
   ]
  },
  {
   "cell_type": "markdown",
   "metadata": {},
   "source": [
    "## Вывод"
   ]
  },
  {
   "cell_type": "markdown",
   "metadata": {},
   "source": [
    "По итогу получили следующие данные для регионов:\n",
    "\n",
    "- Датасет 0:\n",
    "\n",
    "        - Средняя прибыль по региону: 445884814.93 тыс.руб.\n",
    "        - 95% доверительный интервал от -69113643.14 до 915778306.38 тыс.руб.\n",
    "        - Процент риска: 4.50%\n",
    "\n",
    "- Датасет 1:\n",
    "\n",
    "        - Средняя прибыль по региону: 405497664.98 тыс.руб.\n",
    "        - 95% доверительный интервал от 38857140.89 до 796710792.96 тыс.руб.\n",
    "        - Процент риска: 1.40%\n",
    "        \n",
    "- Датасет 2:\n",
    "\n",
    "        - Средняя прибыль по региону: 387025831.58 тыс.руб.\n",
    "        - 95% доверительный интервал от -141490855.54 до 908324762.10 тыс.руб.\n",
    "        - Процент риска: 7.80%\n",
    "        \n",
    "Согласно полученным данным, видим, что выручка во 1 и 3 датасетах может быть отрицательной - они могут не подойти для далейшней разработки. \n",
    "Второй регион получился одним из лучших по показателям предсказывания, хотя данные не выглядят нормально распределенными, что неожиданно."
   ]
  },
  {
   "cell_type": "markdown",
   "metadata": {},
   "source": [
    "## Чек-лист готовности проекта"
   ]
  },
  {
   "cell_type": "markdown",
   "metadata": {},
   "source": [
    "Поставьте 'x' в выполненных пунктах. Далее нажмите Shift+Enter."
   ]
  },
  {
   "cell_type": "markdown",
   "metadata": {},
   "source": [
    "- [x]  Jupyter Notebook открыт\n",
    "- [x]  Весь код выполняется без ошибок\n",
    "- [x]  Ячейки с кодом расположены в порядке исполнения\n",
    "- [x]  Выполнен шаг 1: данные подготовлены\n",
    "- [x]  Выполнен шаг 2: модели обучены и проверены\n",
    "    - [x]  Данные корректно разбиты на обучающую и валидационную выборки\n",
    "    - [x]  Модели обучены, предсказания сделаны\n",
    "    - [x]  Предсказания и правильные ответы на валидационной выборке сохранены\n",
    "    - [x]  На экране напечатаны результаты\n",
    "    - [x]  Сделаны выводы\n",
    "- [x]  Выполнен шаг 3: проведена подготовка к расчёту прибыли\n",
    "    - [x]  Для всех ключевых значений созданы константы Python\n",
    "    - [x]  Посчитано минимальное среднее количество продукта в месторождениях региона, достаточное для разработки\n",
    "    - [x]  По предыдущему пункту сделаны выводы\n",
    "    - [x]  Написана функция расчёта прибыли\n",
    "- [x]  Выполнен шаг 4: посчитаны риски и прибыль\n",
    "    - [x]  Проведена процедура *Bootstrap*\n",
    "    - [x]  Все параметры бутстрепа соответствуют условию\n",
    "    - [x]  Найдены все нужные величины\n",
    "    - [x]  Предложен регион для разработки месторождения\n",
    "    - [ ]  Выбор региона обоснован"
   ]
  }
 ],
 "metadata": {
  "ExecuteTimeLog": [
   {
    "duration": 2195,
    "start_time": "2023-04-14T12:11:42.732Z"
   },
   {
    "duration": 2836,
    "start_time": "2023-04-14T12:12:45.651Z"
   },
   {
    "duration": 573,
    "start_time": "2023-04-14T12:12:59.802Z"
   },
   {
    "duration": 47,
    "start_time": "2023-04-14T12:14:08.580Z"
   },
   {
    "duration": 41,
    "start_time": "2023-04-14T12:14:11.990Z"
   },
   {
    "duration": 23,
    "start_time": "2023-04-14T12:14:28.752Z"
   },
   {
    "duration": 14,
    "start_time": "2023-04-14T12:14:43.981Z"
   },
   {
    "duration": 20,
    "start_time": "2023-04-14T12:14:55.763Z"
   },
   {
    "duration": 15,
    "start_time": "2023-04-14T12:15:08.366Z"
   },
   {
    "duration": 79,
    "start_time": "2023-04-14T12:15:53.100Z"
   },
   {
    "duration": 77,
    "start_time": "2023-04-14T12:17:01.868Z"
   },
   {
    "duration": 105,
    "start_time": "2023-04-14T12:17:30.907Z"
   },
   {
    "duration": 68,
    "start_time": "2023-04-14T12:17:35.440Z"
   },
   {
    "duration": 64,
    "start_time": "2023-04-14T12:17:41.373Z"
   },
   {
    "duration": 71,
    "start_time": "2023-04-14T12:17:56.628Z"
   },
   {
    "duration": 57,
    "start_time": "2023-04-14T12:17:58.676Z"
   },
   {
    "duration": 59,
    "start_time": "2023-04-14T12:18:45.720Z"
   },
   {
    "duration": 51,
    "start_time": "2023-04-14T12:18:48.096Z"
   },
   {
    "duration": 55,
    "start_time": "2023-04-14T12:18:50.608Z"
   },
   {
    "duration": 55,
    "start_time": "2023-04-14T12:19:09.780Z"
   },
   {
    "duration": 42,
    "start_time": "2023-04-14T12:19:17.369Z"
   },
   {
    "duration": 71,
    "start_time": "2023-04-14T12:19:31.275Z"
   },
   {
    "duration": 46,
    "start_time": "2023-04-14T12:19:41.820Z"
   },
   {
    "duration": 49,
    "start_time": "2023-04-14T12:19:55.371Z"
   },
   {
    "duration": 30,
    "start_time": "2023-04-14T12:24:29.042Z"
   },
   {
    "duration": 5,
    "start_time": "2023-04-14T12:24:48.421Z"
   },
   {
    "duration": 617,
    "start_time": "2023-04-14T12:25:06.322Z"
   },
   {
    "duration": 5,
    "start_time": "2023-04-14T12:25:32.739Z"
   },
   {
    "duration": 9,
    "start_time": "2023-04-14T12:26:40.602Z"
   },
   {
    "duration": 207,
    "start_time": "2023-04-14T12:26:43.240Z"
   },
   {
    "duration": 5,
    "start_time": "2023-04-14T12:31:28.372Z"
   },
   {
    "duration": 5,
    "start_time": "2023-04-14T12:32:21.869Z"
   },
   {
    "duration": 16,
    "start_time": "2023-04-14T12:32:23.078Z"
   },
   {
    "duration": 4,
    "start_time": "2023-04-14T12:32:50.407Z"
   },
   {
    "duration": 397,
    "start_time": "2023-04-14T12:32:52.385Z"
   },
   {
    "duration": 4,
    "start_time": "2023-04-14T12:33:09.418Z"
   },
   {
    "duration": 507,
    "start_time": "2023-04-14T12:33:14.199Z"
   },
   {
    "duration": 413,
    "start_time": "2023-04-14T12:35:03.069Z"
   },
   {
    "duration": 361,
    "start_time": "2023-04-14T12:35:16.570Z"
   },
   {
    "duration": 4,
    "start_time": "2023-04-14T12:35:26.878Z"
   },
   {
    "duration": 4,
    "start_time": "2023-04-14T12:39:10.676Z"
   },
   {
    "duration": 7,
    "start_time": "2023-04-14T12:39:26.208Z"
   },
   {
    "duration": 6,
    "start_time": "2023-04-14T12:39:39.191Z"
   },
   {
    "duration": 6,
    "start_time": "2023-04-14T12:39:50.625Z"
   },
   {
    "duration": 12,
    "start_time": "2023-04-14T12:40:10.868Z"
   },
   {
    "duration": 3,
    "start_time": "2023-04-14T12:40:20.107Z"
   },
   {
    "duration": 7,
    "start_time": "2023-04-14T12:40:23.854Z"
   },
   {
    "duration": 7,
    "start_time": "2023-04-14T12:40:30.792Z"
   },
   {
    "duration": 5,
    "start_time": "2023-04-14T12:40:36.533Z"
   },
   {
    "duration": 240,
    "start_time": "2023-04-14T12:41:09.567Z"
   },
   {
    "duration": 26,
    "start_time": "2023-04-14T12:45:07.818Z"
   },
   {
    "duration": 68,
    "start_time": "2023-04-14T12:45:22.409Z"
   },
   {
    "duration": 12,
    "start_time": "2023-04-14T12:45:24.612Z"
   },
   {
    "duration": 10,
    "start_time": "2023-04-14T12:47:52.235Z"
   },
   {
    "duration": 30,
    "start_time": "2023-04-14T12:47:59.667Z"
   },
   {
    "duration": 19,
    "start_time": "2023-04-14T12:48:00.944Z"
   },
   {
    "duration": 14,
    "start_time": "2023-04-14T12:48:59.833Z"
   },
   {
    "duration": 98,
    "start_time": "2023-04-14T12:49:08.367Z"
   },
   {
    "duration": 6,
    "start_time": "2023-04-14T12:49:09.733Z"
   },
   {
    "duration": 6,
    "start_time": "2023-04-14T12:49:18.585Z"
   },
   {
    "duration": 7,
    "start_time": "2023-04-14T12:49:23.577Z"
   },
   {
    "duration": 21,
    "start_time": "2023-04-14T12:50:26.074Z"
   },
   {
    "duration": 35,
    "start_time": "2023-04-14T12:50:32.315Z"
   },
   {
    "duration": 7,
    "start_time": "2023-04-14T12:50:33.514Z"
   },
   {
    "duration": 13,
    "start_time": "2023-04-14T12:56:53.647Z"
   },
   {
    "duration": 4,
    "start_time": "2023-04-14T12:57:20.632Z"
   },
   {
    "duration": 23,
    "start_time": "2023-04-14T12:59:31.120Z"
   },
   {
    "duration": 36,
    "start_time": "2023-04-14T13:06:03.488Z"
   },
   {
    "duration": 17,
    "start_time": "2023-04-14T13:07:07.613Z"
   },
   {
    "duration": 43,
    "start_time": "2023-04-14T13:08:26.380Z"
   },
   {
    "duration": 28,
    "start_time": "2023-04-14T13:08:30.895Z"
   },
   {
    "duration": 12,
    "start_time": "2023-04-14T13:08:32.513Z"
   },
   {
    "duration": 37,
    "start_time": "2023-04-14T13:10:04.183Z"
   },
   {
    "duration": 40,
    "start_time": "2023-04-14T13:10:22.983Z"
   },
   {
    "duration": 60,
    "start_time": "2023-04-14T13:12:09.823Z"
   },
   {
    "duration": 27,
    "start_time": "2023-04-14T13:29:50.778Z"
   },
   {
    "duration": 52,
    "start_time": "2023-04-14T13:32:27.635Z"
   },
   {
    "duration": 6,
    "start_time": "2023-04-14T13:35:13.216Z"
   },
   {
    "duration": 17,
    "start_time": "2023-04-14T13:35:16.124Z"
   },
   {
    "duration": 38,
    "start_time": "2023-04-14T13:35:38.365Z"
   },
   {
    "duration": 11,
    "start_time": "2023-04-14T13:37:12.993Z"
   },
   {
    "duration": 35,
    "start_time": "2023-04-14T13:37:16.568Z"
   },
   {
    "duration": 284,
    "start_time": "2023-04-14T13:37:34.436Z"
   },
   {
    "duration": 24,
    "start_time": "2023-04-14T13:37:47.981Z"
   },
   {
    "duration": 16,
    "start_time": "2023-04-14T13:37:59.093Z"
   },
   {
    "duration": 3,
    "start_time": "2023-04-14T13:39:17.019Z"
   },
   {
    "duration": 15,
    "start_time": "2023-04-14T13:39:24.164Z"
   },
   {
    "duration": 31,
    "start_time": "2023-04-14T13:39:44.644Z"
   },
   {
    "duration": 31,
    "start_time": "2023-04-14T13:39:58.976Z"
   },
   {
    "duration": 23,
    "start_time": "2023-04-14T13:41:57.675Z"
   },
   {
    "duration": 4,
    "start_time": "2023-04-14T13:47:30.412Z"
   },
   {
    "duration": 11,
    "start_time": "2023-04-14T13:47:38.092Z"
   },
   {
    "duration": 35,
    "start_time": "2023-04-14T13:47:45.951Z"
   },
   {
    "duration": 5,
    "start_time": "2023-04-14T13:48:59.092Z"
   },
   {
    "duration": 8,
    "start_time": "2023-04-14T13:49:20.171Z"
   },
   {
    "duration": 65,
    "start_time": "2023-04-14T13:49:44.493Z"
   },
   {
    "duration": 53,
    "start_time": "2023-04-14T13:50:11.981Z"
   },
   {
    "duration": 43,
    "start_time": "2023-04-14T13:50:21.592Z"
   },
   {
    "duration": 15,
    "start_time": "2023-04-14T13:50:46.582Z"
   },
   {
    "duration": 31,
    "start_time": "2023-04-14T13:50:48.291Z"
   },
   {
    "duration": 71,
    "start_time": "2023-04-14T13:51:54.502Z"
   },
   {
    "duration": 210,
    "start_time": "2023-04-14T13:52:03.588Z"
   },
   {
    "duration": 230,
    "start_time": "2023-04-14T13:52:12.276Z"
   },
   {
    "duration": 174,
    "start_time": "2023-04-14T13:53:26.812Z"
   },
   {
    "duration": 218,
    "start_time": "2023-04-14T13:53:34.676Z"
   },
   {
    "duration": 57,
    "start_time": "2023-04-14T13:55:12.600Z"
   },
   {
    "duration": 36,
    "start_time": "2023-04-14T13:55:24.442Z"
   },
   {
    "duration": 7,
    "start_time": "2023-04-14T13:57:54.276Z"
   },
   {
    "duration": 190,
    "start_time": "2023-04-14T13:58:31.369Z"
   },
   {
    "duration": 68,
    "start_time": "2023-04-14T13:58:40.716Z"
   },
   {
    "duration": 4,
    "start_time": "2023-04-14T13:58:59.927Z"
   },
   {
    "duration": 75,
    "start_time": "2023-04-14T13:59:21.428Z"
   },
   {
    "duration": 27,
    "start_time": "2023-04-14T14:00:21.980Z"
   },
   {
    "duration": 31,
    "start_time": "2023-04-14T14:00:27.328Z"
   },
   {
    "duration": 23,
    "start_time": "2023-04-14T14:00:33.208Z"
   },
   {
    "duration": 119,
    "start_time": "2023-04-14T14:01:03.640Z"
   },
   {
    "duration": 17,
    "start_time": "2023-04-14T14:02:13.873Z"
   },
   {
    "duration": 3,
    "start_time": "2023-04-14T14:09:57.489Z"
   },
   {
    "duration": 6,
    "start_time": "2023-04-14T14:10:45.969Z"
   },
   {
    "duration": 5,
    "start_time": "2023-04-14T14:11:24.522Z"
   },
   {
    "duration": 6,
    "start_time": "2023-04-14T14:20:26.933Z"
   },
   {
    "duration": 6,
    "start_time": "2023-04-14T14:20:33.681Z"
   },
   {
    "duration": 511,
    "start_time": "2023-04-14T14:21:15.594Z"
   },
   {
    "duration": 224,
    "start_time": "2023-04-14T14:21:16.433Z"
   },
   {
    "duration": 377,
    "start_time": "2023-04-14T14:21:19.221Z"
   },
   {
    "duration": 7,
    "start_time": "2023-04-14T14:27:36.649Z"
   },
   {
    "duration": 7,
    "start_time": "2023-04-14T14:27:37.519Z"
   },
   {
    "duration": 10,
    "start_time": "2023-04-14T14:27:38.899Z"
   },
   {
    "duration": 832,
    "start_time": "2023-04-14T14:27:49.069Z"
   },
   {
    "duration": 951,
    "start_time": "2023-04-14T14:28:03.696Z"
   },
   {
    "duration": 1073,
    "start_time": "2023-04-14T14:28:19.941Z"
   },
   {
    "duration": 1138,
    "start_time": "2023-04-14T14:28:32.600Z"
   },
   {
    "duration": 1172,
    "start_time": "2023-04-14T14:30:31.373Z"
   },
   {
    "duration": 1198,
    "start_time": "2023-04-14T14:30:32.549Z"
   },
   {
    "duration": 1112,
    "start_time": "2023-04-14T14:32:40.385Z"
   },
   {
    "duration": 1074,
    "start_time": "2023-04-14T14:32:42.229Z"
   },
   {
    "duration": 989,
    "start_time": "2023-04-14T14:32:51.272Z"
   },
   {
    "duration": 1105,
    "start_time": "2023-04-14T14:32:54.712Z"
   },
   {
    "duration": 1183,
    "start_time": "2023-04-14T14:32:59.369Z"
   },
   {
    "duration": 1127,
    "start_time": "2023-04-14T14:33:01.917Z"
   },
   {
    "duration": 1159,
    "start_time": "2023-04-14T14:33:03.996Z"
   },
   {
    "duration": 1233,
    "start_time": "2023-04-14T14:33:08.396Z"
   },
   {
    "duration": 1127,
    "start_time": "2023-04-14T14:33:10.636Z"
   },
   {
    "duration": 1102,
    "start_time": "2023-04-14T14:33:12.916Z"
   },
   {
    "duration": 1089,
    "start_time": "2023-04-14T14:33:24.123Z"
   },
   {
    "duration": 1009,
    "start_time": "2023-04-14T14:33:26.195Z"
   },
   {
    "duration": 1040,
    "start_time": "2023-04-14T14:33:27.977Z"
   }
  ],
  "kernelspec": {
   "display_name": "Python 3 (ipykernel)",
   "language": "python",
   "name": "python3"
  },
  "language_info": {
   "codemirror_mode": {
    "name": "ipython",
    "version": 3
   },
   "file_extension": ".py",
   "mimetype": "text/x-python",
   "name": "python",
   "nbconvert_exporter": "python",
   "pygments_lexer": "ipython3",
   "version": "3.9.5"
  },
  "toc": {
   "base_numbering": 1,
   "nav_menu": {},
   "number_sections": true,
   "sideBar": true,
   "skip_h1_title": true,
   "title_cell": "Table of Contents",
   "title_sidebar": "Contents",
   "toc_cell": false,
   "toc_position": {},
   "toc_section_display": true,
   "toc_window_display": false
  }
 },
 "nbformat": 4,
 "nbformat_minor": 2
}
